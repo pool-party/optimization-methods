{
 "metadata": {
  "language_info": {
   "codemirror_mode": {
    "name": "ipython",
    "version": 3
   },
   "file_extension": ".py",
   "mimetype": "text/x-python",
   "name": "python",
   "nbconvert_exporter": "python",
   "pygments_lexer": "ipython3",
   "version": "3.9.2"
  },
  "orig_nbformat": 2,
  "kernelspec": {
   "name": "python3",
   "display_name": "Python 3.9.2 64-bit",
   "metadata": {
    "interpreter": {
     "hash": "ac2eaa0ea0ebeafcc7822e65e46aa9d4f966f30b695406963e145ea4a91cd4fc"
    }
   }
  }
 },
 "nbformat": 4,
 "nbformat_minor": 2,
 "cells": [
  {
   "cell_type": "code",
   "execution_count": null,
   "metadata": {},
   "outputs": [],
   "source": [
    "import random\n",
    "import numpy as np\n",
    "\n",
    "def generate_matrix(dim):\n",
    "    dimRange = range(dim)\n",
    "    return np.array([[random.random() for _ in dimRange] for _ in dimRange])\n",
    "\n",
    "generate_matrix(2)"
   ]
  },
  {
   "cell_type": "code",
   "execution_count": null,
   "metadata": {},
   "outputs": [],
   "source": [
    "import numpy as np\n",
    "\n",
    "def function_from_matrix(matrix):\n",
    "    def function(vec):\n",
    "        res = 0\n",
    "        dimRange = range(len(matrix))\n",
    "        for i in dimRange:\n",
    "            for j in dimRange:\n",
    "                res += matrix[i][j] * vec[i] * vec[j]\n",
    "        return res\n",
    "    matrix_sum = matrix + matrix.transpose()\n",
    "    def grad(vec):\n",
    "        return np.dot(matrix_sum, vec)\n",
    "    return function, grad\n",
    "\n",
    "f, grad = function_from_matrix(generate_matrix(2))\n",
    "vec = np.array([3, 4])\n",
    "print(f(vec))\n",
    "print(grad(vec))"
   ]
  },
  {
   "cell_type": "code",
   "execution_count": null,
   "metadata": {},
   "outputs": [],
   "source": [
    "import numpy as np\n",
    "\n",
    "def eigenvalue(matrix):\n",
    "    return np.linalg.eigvals(matrix)[0]\n",
    "\n",
    "print(eigenvalue(generate_matrix(3)))"
   ]
  },
  {
   "cell_type": "code",
   "execution_count": null,
   "metadata": {
    "tags": []
   },
   "outputs": [],
   "source": [
    "import collections\n",
    "from gradient_descent import gradient_descent\n",
    "import numpy as np\n",
    "from one_dimensional import *\n",
    "\n",
    "def research_for_dim(dim):\n",
    "    matrixDict = {}\n",
    "    while len(matrixDict) < 3:\n",
    "        matrix = generate_matrix(dim)\n",
    "        ev = eigenvalue(matrix)\n",
    "        if not isinstance(ev, complex):\n",
    "            matrixDict[ev] = matrix\n",
    "    orderedDict = collections.OrderedDict(sorted(matrixDict.items()))\n",
    "    print(\"dimension: \" + str(dim))\n",
    "    for ev, matrix in orderedDict.items():\n",
    "        f, f_grad = function_from_matrix(matrix)\n",
    "        trace = gradient_descent(f=f, f_grad=f_grad, start_arg=(np.random.rand(len(matrix))), method=fibonacci_method)\n",
    "        print(\"\\t\" + str(ev) + \": \" + str(len(trace)))\n",
    "\n",
    "research_for_dim(3)"
   ]
  },
  {
   "cell_type": "code",
   "execution_count": null,
   "metadata": {},
   "outputs": [],
   "source": [
    "for dimension in range(2,11):\n",
    "    research_for_dim(dimension)    "
   ]
  }
 ]
}
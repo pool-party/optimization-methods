{
 "cells": [
  {
   "cell_type": "code",
   "execution_count": 1,
   "metadata": {},
   "outputs": [
    {
     "data": {
      "text/plain": [
       "array([[0.57569387, 0.48062694],\n",
       "       [0.83106485, 0.37385506]])"
      ]
     },
     "execution_count": 1,
     "metadata": {},
     "output_type": "execute_result"
    }
   ],
   "source": [
    "import random\n",
    "import numpy as np\n",
    "\n",
    "def generate_matrix(dim):\n",
    "    dimRange = range(dim)\n",
    "    return np.array([[random.random() for _ in dimRange] for _ in dimRange])\\\n",
    "\n",
    "generate_matrix(2)"
   ]
  },
  {
   "cell_type": "code",
   "execution_count": 2,
   "metadata": {},
   "outputs": [
    {
     "name": "stdout",
     "output_type": "stream",
     "text": [
      "17.36756940403681\n",
      "[5.5702132  4.50612481]\n"
     ]
    }
   ],
   "source": [
    "import numpy as np\n",
    "\n",
    "def function_from_matrix(matrix):\n",
    "    def function(vec):\n",
    "        return np.dot(np.dot(vec.transpose(), matrix), vec)\n",
    "    matrix_sum = matrix + matrix.transpose()\n",
    "    def grad(vec):\n",
    "        return np.dot(matrix_sum, vec)\n",
    "    return function, grad\n",
    "\n",
    "f, grad = function_from_matrix(generate_matrix(2))\n",
    "vec = np.array([3, 4])\n",
    "print(f(vec))\n",
    "print(grad(vec))"
   ]
  },
  {
   "cell_type": "code",
   "execution_count": 3,
   "metadata": {},
   "outputs": [
    {
     "data": {
      "text/plain": [
       "8.071944877429717"
      ]
     },
     "execution_count": 3,
     "metadata": {},
     "output_type": "execute_result"
    }
   ],
   "source": [
    "import numpy as np\n",
    "\n",
    "def eigenvalue(matrix):\n",
    "    hesse = matrix + matrix.transpose()\n",
    "    eigenvalues = np.linalg.eigvals(hesse)\n",
    "    for value in eigenvalues:\n",
    "        if isinstance(value, complex):\n",
    "            return None\n",
    "    return abs(max(eigenvalues) / min(eigenvalues))\n",
    "\n",
    "eigenvalue(generate_matrix(3)) "
   ]
  },
  {
   "cell_type": "code",
   "execution_count": 4,
   "metadata": {
    "tags": []
   },
   "outputs": [],
   "source": [
    "import collections\n",
    "from gradient_descent import gradient_descent\n",
    "import numpy as np\n",
    "from one_dimensional import *\n",
    "\n",
    "def research_for_dim(dim, eps):\n",
    "    matrixDict = {}\n",
    "    while len(matrixDict) < 3:\n",
    "        matrix = generate_matrix(dim)\n",
    "        ev = eigenvalue(matrix)\n",
    "        if ev is not None:\n",
    "            matrixDict[ev] = matrix\n",
    "    orderedDict = collections.OrderedDict(sorted(matrixDict.items()))\n",
    "    print(\"dimension: \" + str(dim))\n",
    "    for ev, matrix in orderedDict.items():\n",
    "        f, f_grad = function_from_matrix(matrix)\n",
    "        trace = gradient_descent(f, f_grad, np.random.rand(len(matrix)), method=None, criterion=2, step=1e-5, eps=eps)\n",
    "        print(\"\\t\" + str(ev) + \": \" + str(len(trace)))"
   ]
  },
  {
   "cell_type": "code",
   "execution_count": 5,
   "metadata": {},
   "outputs": [
    {
     "name": "stdout",
     "output_type": "stream",
     "text": [
      "dimension: 2\n",
      "\t2.3818172437146834: 2\n",
      "\t9.055062706240346: 2\n",
      "\t10.45794672041281: 2\n",
      "dimension: 3\n",
      "\t3.063887139167986: 2\n",
      "\t5.161826457249043: 2\n",
      "\t6.515596873037983: 2\n",
      "dimension: 4\n",
      "\t3.6697608841942997: 2\n",
      "\t4.452037169465834: 2\n",
      "\t7.0196081929827745: 2\n",
      "dimension: 5\n",
      "\t2.5485821748381414: 2\n",
      "\t4.162814649902746: 2\n",
      "\t9.838154362358786: 2\n",
      "dimension: 6\n",
      "\t3.284456924913499: 2\n",
      "\t3.5207487720723285: 1352\n",
      "\t3.777124394451044: 2\n",
      "dimension: 7\n",
      "\t3.8474374521048955: 981\n",
      "\t4.999795108692338: 2\n",
      "\t6.062392745674152: 3346\n",
      "dimension: 8\n",
      "\t3.3771049612314865: 2\n",
      "\t4.3185043646661905: 4078\n",
      "\t5.062624544422829: 299\n",
      "dimension: 9\n",
      "\t3.440636849581937: 2652\n",
      "\t4.586213283042766: 2\n",
      "\t5.218696516098954: 5672\n",
      "dimension: 10\n",
      "\t3.999212370497073: 7438\n",
      "\t4.3821864133602: 5644\n",
      "\t4.969114880073069: 5555\n"
     ]
    }
   ],
   "source": [
    "for dimension in range(2,11):\n",
    "    research_for_dim(dimension, 1e-3)"
   ]
  },
  {
   "cell_type": "code",
   "execution_count": 6,
   "metadata": {
    "scrolled": false
   },
   "outputs": [
    {
     "name": "stdout",
     "output_type": "stream",
     "text": [
      "dimension: 2\n",
      "\t3.5050976630955253: 2\n",
      "\t8.263773345496167: 2\n",
      "\t28.664412940781535: 2\n",
      "dimension: 3\n",
      "\t1.8497402086723633: 4536\n",
      "\t4.261405770227118: 2\n",
      "\t4.388246526749393: 947\n",
      "dimension: 4\n",
      "\t7.819515203756402: 10001\n",
      "\t13.08066177800039: 10001\n",
      "\t31.292745472524807: 2\n",
      "dimension: 5\n",
      "\t4.664493708699604: 10001\n",
      "\t5.071213917901593: 9351\n",
      "\t89.09484843062216: 10001\n",
      "dimension: 6\n",
      "\t3.3388139324926462: 10001\n",
      "\t3.821605373058284: 10001\n",
      "\t4.986859899776882: 9364\n",
      "dimension: 7\n",
      "\t3.337879304722956: 10001\n",
      "\t4.169480852616542: 10001\n",
      "\t4.5146811586036115: 10001\n",
      "dimension: 8\n",
      "\t5.163271211269115: 10001\n",
      "\t5.534090546681017: 10001\n",
      "\t8.261311031120073: 10001\n",
      "dimension: 9\n",
      "\t5.609512741180137: 10001\n",
      "\t6.0084799843394405: 10001\n",
      "\t6.539909906560694: 10001\n",
      "dimension: 10\n",
      "\t5.123947030319958: 10001\n",
      "\t7.1419900965298835: 10001\n",
      "\t7.788866779160646: 10001\n"
     ]
    }
   ],
   "source": [
    "for dimension in range(2,11):\n",
    "    research_for_dim(dimension, 1e-4)"
   ]
  },
  {
   "cell_type": "code",
   "execution_count": 7,
   "metadata": {
    "scrolled": false
   },
   "outputs": [
    {
     "name": "stdout",
     "output_type": "stream",
     "text": [
      "dimension: 2\n",
      "\t6.56680215716246: 10001\n",
      "\t12.427362174030385: 10001\n",
      "\t33.0992192906432: 10001\n",
      "dimension: 3\n",
      "\t1.9284658681383957: 10001\n",
      "\t5.987176199458395: 10001\n",
      "\t7.9525690446303585: 10001\n",
      "dimension: 4\n",
      "\t3.192383931824811: 10001\n",
      "\t3.9682448959271475: 10001\n",
      "\t7.835461974117692: 10001\n",
      "dimension: 5\n",
      "\t3.437988131781676: 10001\n",
      "\t3.4877465291511487: 10001\n",
      "\t7.031377410430487: 10001\n",
      "dimension: 6\n",
      "\t3.2276946704614082: 10001\n",
      "\t4.614346026705767: 10001\n",
      "\t6.454963030854501: 10001\n",
      "dimension: 7\n",
      "\t3.225884857089063: 10001\n",
      "\t3.4746061174980034: 10001\n",
      "\t3.710190773617677: 10001\n",
      "dimension: 8\n",
      "\t4.131580024284299: 10001\n",
      "\t4.739671549008893: 10001\n",
      "\t5.374291682275306: 10001\n",
      "dimension: 9\n",
      "\t4.567269573174374: 10001\n",
      "\t5.412216432841124: 10001\n",
      "\t6.565078299251577: 10001\n",
      "dimension: 10\n",
      "\t4.724730953634066: 10001\n",
      "\t5.2162982948461005: 10001\n",
      "\t6.373828367980337: 10001\n"
     ]
    }
   ],
   "source": [
    "for dimension in range(2,11):\n",
    "    research_for_dim(dimension, 1e-5)    "
   ]
  },
  {
   "cell_type": "markdown",
   "metadata": {},
   "source": [
    "# SECOND TASK:"
   ]
  },
  {
   "cell_type": "code",
   "execution_count": null,
   "metadata": {},
   "outputs": [],
   "source": []
  }
 ],
 "metadata": {
  "kernelspec": {
   "display_name": "PyCharm (optimization-methods)",
   "language": "python",
   "name": "pycharm-65aa5494"
  },
  "language_info": {
   "codemirror_mode": {
    "name": "ipython",
    "version": 3
   },
   "file_extension": ".py",
   "mimetype": "text/x-python",
   "name": "python",
   "nbconvert_exporter": "python",
   "pygments_lexer": "ipython3",
   "version": "3.7.9"
  },
  "metadata": {
   "interpreter": {
    "hash": "aee8b7b246df8f9039afb4144a1f6fd8d2ca17a180786b69acc140d282b71a49"
   }
  }
 },
 "nbformat": 4,
 "nbformat_minor": 2
}

{
 "cells": [
  {
   "cell_type": "code",
   "execution_count": 1,
   "metadata": {},
   "outputs": [
    {
     "data": {
      "text/plain": [
       "array([[0.02984928, 0.35498539],\n",
       "       [0.96056864, 0.40036376]])"
      ]
     },
     "execution_count": 1,
     "metadata": {},
     "output_type": "execute_result"
    }
   ],
   "source": [
    "import random\n",
    "import numpy as np\n",
    "\n",
    "def generate_matrix(dim):\n",
    "    dimRange = range(dim)\n",
    "    return np.array([[random.random() for _ in dimRange] for _ in dimRange])\n",
    "\n",
    "generate_matrix(2)"
   ]
  },
  {
   "cell_type": "code",
   "execution_count": 2,
   "metadata": {},
   "outputs": [
    {
     "name": "stdout",
     "output_type": "stream",
     "text": [
      "27.66150633861902\n",
      "[10.96309998  5.60842818]\n"
     ]
    }
   ],
   "source": [
    "import numpy as np\n",
    "\n",
    "def function_from_matrix(matrix):\n",
    "    def function(vec):\n",
    "        res = 0\n",
    "        dimRange = range(len(matrix))\n",
    "        for i in dimRange:\n",
    "            for j in dimRange:\n",
    "                res += matrix[i][j] * vec[i] * vec[j]\n",
    "        return res\n",
    "    matrix_sum = matrix + matrix.transpose()\n",
    "    def grad(vec):\n",
    "        return np.dot(matrix_sum, vec)\n",
    "    return function, grad\n",
    "\n",
    "f, grad = function_from_matrix(generate_matrix(2))\n",
    "vec = np.array([3, 4])\n",
    "print(f(vec))\n",
    "print(grad(vec))"
   ]
  },
  {
   "cell_type": "code",
   "execution_count": 3,
   "metadata": {},
   "outputs": [
    {
     "data": {
      "text/plain": [
       "7.967271167841235"
      ]
     },
     "execution_count": 3,
     "metadata": {},
     "output_type": "execute_result"
    }
   ],
   "source": [
    "import numpy as np\n",
    "\n",
    "def eigenvalue(matrix):\n",
    "    eigenvalues = np.linalg.eigvals(matrix)\n",
    "    return abs(max(eigenvalues) / min(eigenvalues))\n",
    "\n",
    "eigenvalue(generate_matrix(3)) "
   ]
  },
  {
   "cell_type": "code",
   "execution_count": 23,
   "metadata": {
    "tags": []
   },
   "outputs": [],
   "source": [
    "import collections\n",
    "from gradient_descent import gradient_descent\n",
    "import numpy as np\n",
    "from one_dimensional import *\n",
    "\n",
    "def research_for_dim(dim, eps):\n",
    "    matrixDict = {}\n",
    "    while len(matrixDict) < 3:\n",
    "        matrix = generate_matrix(dim)\n",
    "        ev = eigenvalue(matrix)\n",
    "        if not isinstance(ev, complex):\n",
    "            matrixDict[ev] = matrix\n",
    "    orderedDict = collections.OrderedDict(sorted(matrixDict.items()))\n",
    "    print(\"dimension: \" + str(dim))\n",
    "    for ev, matrix in orderedDict.items():\n",
    "        f, f_grad = function_from_matrix(matrix)\n",
    "        trace = gradient_descent(f, f_grad, np.random.rand(len(matrix)), method=None, criterion=2, step=1e-5, eps=eps)\n",
    "        print(\"\\t\" + str(ev) + \": \" + str(len(trace)))"
   ]
  },
  {
   "cell_type": "code",
   "execution_count": 24,
   "metadata": {},
   "outputs": [
    {
     "name": "stdout",
     "output_type": "stream",
     "text": [
      "dimension: 2\n",
      "\t1.7359238778313928: 2\n",
      "\t12.612344122007165: 2\n",
      "\t192.2547956671485: 2\n",
      "dimension: 3\n",
      "\t2.3337885657064135: 2\n",
      "\t3.957401386492464: 2\n",
      "\t5.337706651753223: 2\n",
      "dimension: 4\n",
      "\t5.646189820384794: 2\n",
      "\t8.306372623025256: 2\n",
      "\t9.76859781884957: 2\n",
      "dimension: 5\n",
      "\t2.535710841239353: 2\n",
      "\t7.1929356176014165: 2\n",
      "\t14.405813605110097: 2\n",
      "dimension: 6\n",
      "\t2.884807054851331: 2\n",
      "\t5.55275331538132: 2\n",
      "\t9.8770262687414: 318\n",
      "dimension: 7\n",
      "\t5.629648496021898: 118\n",
      "\t7.279151095014175: 1490\n",
      "\t7.953646968652038: 3549\n",
      "dimension: 8\n",
      "\t4.882142624991797: 4053\n",
      "\t5.0336419395968335: 2395\n",
      "\t7.954450735211149: 1418\n",
      "dimension: 9\n",
      "\t5.233093456966684: 3002\n",
      "\t6.538616811344451: 2\n",
      "\t8.053477674080076: 1627\n",
      "dimension: 10\n",
      "\t6.873554095785315: 3994\n",
      "\t9.164118538573332: 6175\n",
      "\t28.049537794660456: 2674\n"
     ]
    }
   ],
   "source": [
    "for dimension in range(2,11):\n",
    "    research_for_dim(dimension, 1e-3)"
   ]
  },
  {
   "cell_type": "code",
   "execution_count": 11,
   "metadata": {
    "scrolled": false
   },
   "outputs": [
    {
     "name": "stdout",
     "output_type": "stream",
     "text": [
      "dimension: 2\n",
      "\t2.0104858843494373: 2\n",
      "\t2.328071625867569: 2\n",
      "\t51.80179134874981: 2\n",
      "dimension: 3\n",
      "\t2.97576680424484: 2\n",
      "\t3.5346801731522253: 2\n",
      "\t7.91101647262298: 2\n",
      "dimension: 4\n",
      "\t3.687987132736374: 2\n",
      "\t4.065116607348471: 2\n",
      "\t72.42664503375543: 2\n",
      "dimension: 5\n",
      "\t4.032099521084929: 10001\n",
      "\t6.348680481203777: 2\n",
      "\t12.148474753507681: 10001\n",
      "dimension: 6\n",
      "\t3.860743856534854: 10001\n",
      "\t4.048074371749901: 10001\n",
      "\t8.254466347070373: 10001\n",
      "dimension: 7\n",
      "\t4.545989119466779: 10001\n",
      "\t4.863076045358717: 10001\n",
      "\t6.088564321214314: 10001\n",
      "dimension: 8\n",
      "\t4.8317726363737945: 10001\n",
      "\t5.8336107365715035: 10001\n",
      "\t12.636857247457378: 10001\n",
      "dimension: 9\n",
      "\t5.172948180136271: 10001\n",
      "\t5.400815467061891: 10001\n",
      "\t7.90314059551335: 10001\n",
      "dimension: 10\n",
      "\t4.921168874320412: 10001\n",
      "\t6.269390747971838: 10001\n",
      "\t6.9651355768093355: 10001\n"
     ]
    }
   ],
   "source": [
    "for dimension in range(2,11):\n",
    "    research_for_dim(dimension, 1e-4)"
   ]
  },
  {
   "cell_type": "code",
   "execution_count": 12,
   "metadata": {
    "scrolled": false
   },
   "outputs": [
    {
     "name": "stdout",
     "output_type": "stream",
     "text": [
      "dimension: 2\n",
      "\t2.918688212056929: 10001\n",
      "\t2.9416024599387143: 10001\n",
      "\t3.307759577737674: 10001\n",
      "dimension: 3\n",
      "\t2.395058789573461: 10001\n",
      "\t2.7506943110169226: 10001\n",
      "\t3.6275319287523407: 10001\n",
      "dimension: 4\n",
      "\t4.8780941121328505: 10001\n",
      "\t6.459780889198342: 10001\n",
      "\t12.21395409896978: 10001\n",
      "dimension: 5\n",
      "\t3.087357423449284: 10001\n",
      "\t4.152577232197338: 10001\n",
      "\t4.750449559174347: 10001\n",
      "dimension: 6\n",
      "\t7.505824321548284: 10001\n",
      "\t11.119226208800676: 10001\n",
      "\t21.773196034432424: 10001\n",
      "dimension: 7\n",
      "\t5.211095270181: 10001\n",
      "\t7.821786129907851: 10001\n",
      "\t15.915080411887022: 10001\n",
      "dimension: 8\n",
      "\t4.740029526785715: 10001\n",
      "\t5.33293339582772: 10001\n",
      "\t5.907088588362147: 10001\n",
      "dimension: 9\n",
      "\t4.2595167634933375: 10001\n",
      "\t5.837708925435576: 10001\n",
      "\t6.068289683098335: 10001\n",
      "dimension: 10\n",
      "\t6.493333689502775: 10001\n",
      "\t6.757536046451226: 10001\n",
      "\t8.547898313704183: 10001\n"
     ]
    }
   ],
   "source": [
    "for dimension in range(2,11):\n",
    "    research_for_dim(dimension, 1e-5)    "
   ]
  },
  {
   "cell_type": "markdown",
   "metadata": {},
   "source": [
    "# SECOND TASK:"
   ]
  },
  {
   "cell_type": "code",
   "execution_count": null,
   "metadata": {},
   "outputs": [],
   "source": []
  }
 ],
 "metadata": {
  "kernelspec": {
   "display_name": "Python 3",
   "language": "python",
   "name": "python3"
  },
  "language_info": {
   "codemirror_mode": {
    "name": "ipython",
    "version": 3
   },
   "file_extension": ".py",
   "mimetype": "text/x-python",
   "name": "python",
   "nbconvert_exporter": "python",
   "pygments_lexer": "ipython3",
   "version": "3.8.5"
  }
 },
 "nbformat": 4,
 "nbformat_minor": 2
}

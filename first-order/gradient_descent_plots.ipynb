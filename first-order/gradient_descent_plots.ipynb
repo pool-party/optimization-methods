{
 "cells": [
  {
   "cell_type": "code",
   "execution_count": 63,
   "metadata": {},
   "outputs": [],
   "source": [
    "from gradient_descent import gradient_descent\n",
    "from one_dimensional import dichotomy_method, fibonacci_method, golden_ratio_method\n",
    "import matplotlib.pyplot as plt\n",
    "import numpy as np"
   ]
  },
  {
   "cell_type": "code",
   "execution_count": 55,
   "metadata": {
    "pycharm": {
     "name": "#%%\n"
    }
   },
   "outputs": [],
   "source": [
    "def draw_plot(xs, ys, xlabel, ylabel, title):\n",
    "    plt.plot(xs, ys)\n",
    "    plt.xlabel(xlabel)\n",
    "    plt.ylabel(ylabel)\n",
    "    plt.title(title)\n",
    "    plt.show()"
   ]
  },
  {
   "cell_type": "code",
   "execution_count": 58,
   "metadata": {
    "pycharm": {
     "name": "#%%\n"
    }
   },
   "outputs": [],
   "source": [
    "# doesn't work on the complicated function\n",
    "# OverflowError: (34, 'Result too large')\n",
    "f = lambda x: 3 * x**12 + (x - 12)**7 + (x - 37)**3 - (x + 32)**2 + 7\n",
    "f_grad = lambda x: 36 * x**11 + 7 * (x - 12)**6 + 3 * (x - 37)**2 - 2 * (x + 32)\n",
    "\n",
    "# doesn't work with this also\n",
    "f = lambda x: -2 * x**2 + 4 * x\n",
    "f_grad = lambda x: -4 * x + 4\n",
    "\n",
    "f = lambda x: (x - 3) ** 2 + 8\n",
    "f_grad = lambda x: 2 * (x - 3)\n",
    "    \n",
    "start_arg = 3\n",
    "methods = [dichotomy_method, fibonacci_method, golden_ratio_method]\n",
    "iteration_amount = []"
   ]
  },
  {
   "cell_type": "code",
   "execution_count": 59,
   "metadata": {},
   "outputs": [
    {
     "name": "stdout",
     "output_type": "stream",
     "text": [
      "method: dichotomy_method result: 3.0 iterations: 2\n",
      "method: fibonacci_method result: 3.0 iterations: 2\n",
      "method: golden_ratio_method result: 3.0 iterations: 2\n"
     ]
    }
   ],
   "source": [
    "for method in methods:\n",
    "    res = gradient_descent(f, f_grad, start_arg, method)\n",
    "    print(f'method: {method.__name__}', f'result: {res[-1]}', f'iterations: {len(res)}')\n",
    "    iteration_amount.append(len(res))"
   ]
  },
  {
   "cell_type": "code",
   "execution_count": 161,
   "metadata": {},
   "outputs": [],
   "source": [
    "def make_level_lines_plot(f, f_grad, start, method, x_min, x_max, y_min, y_max, x_step=0.1, y_step=0.1, levels=None):\n",
    "    trace = gradient_descent(f, f_grad, start, method, eps=1e-8)\n",
    "    print(f'result: {trace[-1]}', f'iterations: {len(trace)}')\n",
    "    if levels is None:\n",
    "        levels = [f(args) for args in trace]\n",
    "        list.sort(levels)\n",
    "    x_s = np.arange(x_min, x_max, x_step)\n",
    "    y_s = np.arange(y_min, y_max, y_step)\n",
    "    z_s = np.array([[f(np.array([x, y])) for x in x_s] for y in y_s])\n",
    "\n",
    "    plt.figure()\n",
    "    cs = plt.contour(x_s, y_s, z_s, levels=levels)\n",
    "    plt.clabel(cs)\n",
    "    for i in range(len(trace) - 1):\n",
    "        cur_point = trace[i]\n",
    "        next_point = trace[i + 1]\n",
    "        plt.scatter([cur_point[0]], [cur_point[1]])\n",
    "        plt.plot([cur_point[0], next_point[0]], [cur_point[1], next_point[1]])\n",
    "    plt.grid()\n",
    "    plt.show()"
   ]
  },
  {
   "cell_type": "code",
   "execution_count": 162,
   "metadata": {},
   "outputs": [],
   "source": [
    "sum_squares_f = lambda args: np.sum(args ** 2)\n",
    "sum_squares_grad = lambda args: 2 * args"
   ]
  },
  {
   "cell_type": "code",
   "execution_count": 171,
   "metadata": {},
   "outputs": [
    {
     "name": "stdout",
     "output_type": "stream",
     "text": [
      "result: [7.58401309e-24 7.58401309e-24] iterations: 4\n"
     ]
    },
    {
     "data": {
      "image/png": "[encoded data removed]",
      "text/plain": [
       "<Figure size 432x288 with 1 Axes>"
      ]
     },
     "metadata": {
      "needs_background": "light"
     },
     "output_type": "display_data"
    }
   ],
   "source": [
    "make_level_lines_plot(sum_squares_f,\n",
    "              sum_squares_grad,\n",
    "              start=np.array([1, 1]),\n",
    "              method=golden_ratio_method,\n",
    "              x_min=-3,\n",
    "              x_max=3,\n",
    "              y_min=-3,\n",
    "              y_max=3\n",
    "             )"
   ]
  },
  {
   "cell_type": "code",
   "execution_count": 172,
   "metadata": {},
   "outputs": [],
   "source": [
    "def some_f(arg):\n",
    "    x = arg[0]\n",
    "    y = arg[1]\n",
    "    return (x - 2) ** 2 + (y - 1) ** 2\n",
    "\n",
    "def some_f_grad(arg):\n",
    "    x = arg[0]\n",
    "    y = arg[1]\n",
    "    dx = 2 * (x - 2)\n",
    "    dy = 2 * (y - 1)\n",
    "    return np.array([dx, dy])"
   ]
  },
  {
   "cell_type": "code",
   "execution_count": 173,
   "metadata": {},
   "outputs": [
    {
     "name": "stdout",
     "output_type": "stream",
     "text": [
      "result: [2. 1.] iterations: 4\n"
     ]
    },
    {
     "data": {
      "image/png": "[encoded data removed]",
      "text/plain": [
       "<Figure size 432x288 with 1 Axes>"
      ]
     },
     "metadata": {
      "needs_background": "light"
     },
     "output_type": "display_data"
    }
   ],
   "source": [
    "make_level_lines_plot(some_f,\n",
    "              some_f_grad,\n",
    "              start=np.array([3, 2]),\n",
    "              method=golden_ratio_method,\n",
    "              x_min=-1,\n",
    "              x_max=5,\n",
    "              y_min=-2,\n",
    "              y_max=4\n",
    "             )"
   ]
  },
  {
   "cell_type": "code",
   "execution_count": null,
   "metadata": {},
   "outputs": [],
   "source": []
  },
  {
   "cell_type": "code",
   "execution_count": null,
   "metadata": {},
   "outputs": [],
   "source": []
  },
  {
   "cell_type": "code",
   "execution_count": null,
   "metadata": {},
   "outputs": [],
   "source": []
  }
 ],
 "metadata": {
  "kernelspec": {
   "display_name": "Python 3",
   "language": "python",
   "name": "python3"
  },
  "language_info": {
   "codemirror_mode": {
    "name": "ipython",
    "version": 3
   },
   "file_extension": ".py",
   "mimetype": "text/x-python",
   "name": "python",
   "nbconvert_exporter": "python",
   "pygments_lexer": "ipython3",
   "version": "3.8.5"
  }
 },
 "nbformat": 4,
 "nbformat_minor": 4
}

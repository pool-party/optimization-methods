{
 "cells": [
  {
   "cell_type": "markdown",
   "metadata": {},
   "source": [
    "# Testing methods"
   ]
  },
  {
   "cell_type": "code",
   "execution_count": 7,
   "metadata": {},
   "outputs": [],
   "source": [
    "from gradient_descent import gradient_descent\n",
    "from conjugate_gradients import conjugate_gradients_method\n",
    "from one_dimensional import dichotomy_method, fibonacci_method, golden_ratio_method\n",
    "from newton import newton\n",
    "\n",
    "import numpy as np\n",
    "from math import exp\n",
    "\n",
    "def first_function(args):\n",
    "    x = args[0]\n",
    "    y = args[1]\n",
    "    return 100 * (y - x) ** 2 + (1 - x) ** 2\n",
    "\n",
    "def first_function_grad(args):\n",
    "    x = args[0]\n",
    "    y = args[1]\n",
    "    return np.array([-200 * (y - x) + 2 * x - 2, 200 * (y - x)])\n",
    "\n",
    "def first_function_hess(args):\n",
    "    x = args[0]\n",
    "    y = args[1]\n",
    "    return np.array([[202, -200], [-200, 200]])\n",
    "\n",
    "def second_function(args):\n",
    "    x = args[0]\n",
    "    y = args[1]\n",
    "    return 100 * (y - x ** 2) ** 2 + (1 - x) ** 2\n",
    "\n",
    "def second_function_grad(args):\n",
    "    x = args[0]\n",
    "    y = args[1]\n",
    "    return np.array([-400 * (y - x ** 2) * x - 2 * (1 - x), 200 * (y - x ** 2)])\n",
    "\n",
    "def second_function_hess(args):\n",
    "    x = args[0]\n",
    "    y = args[1]\n",
    "    return np.array([[-400 * ((y - x ** 2) - 2 * x ** 2) + 2, -400 * x], [-400 * x, 200]])\n",
    "\n",
    "def third_function(args):\n",
    "    x = args[0]\n",
    "    y = args[1]\n",
    "    return (-1) * (2 * exp(-((x - 1) / 2) ** 2 - (y - 1) ** 2) + 3 * exp(-((x - 2) / 3) ** 2 - ((y - 3) / 2) ** 2))\n",
    "\n",
    "def third_function_grad(args):\n",
    "    x = args[0]\n",
    "    y = args[1]\n",
    "    return (-1.0) * np.array([2 * exp(-((x - 1) / 2) ** 2 - (y - 1) ** 2) * (-(x - 1) / 2) +\n",
    "            3 * exp(-((x - 2) / 3) ** 2 - ((y - 3) / 2) ** 2) * (2.0 / 3.0) * (-(x - 2) / 3),\n",
    "            2 * exp(-((x - 1) / 2) ** 2 - (y - 1) ** 2) * (-2 * (y - 1)) +\n",
    "            3 * exp(-((x - 2) / 3) ** 2 - ((y - 3) / 2) ** 2) * (-((y - 3) / 2))])\n",
    "\n",
    "def third_function_hess(args):\n",
    "    x = args[0]\n",
    "    y = args[1]\n",
    "    return (-1) * np.array(\n",
    "        [[3 * ((4 / 81) * (x - 2) ** 2 * exp((-1 / 9) * (x - 2) ** 2 - (1 / 4) * (y - 3) ** 2) -\n",
    "            (2 / 9) * exp((-1 / 9) * (x - 2) ** 2 - (1 / 4) * (y - 3) ** 2)) +\n",
    "        2 * ((1 / 4) * (x - 1) ** 2 * exp((-(1 / 4) * (1 - x) ** 2 - (y - 1) ** 2)) -\n",
    "            (1 / 2) * exp(-(1 / 4) * (1 - x) ** 2 - (y - 1) ** 2)),\n",
    "        (1 / 3) * (x - 2) * (y - 3) * exp(-(1 / 9) * (x - 2) ** 2 - (1 / 4) * (y - 3) ** 2) +\n",
    "        2 * (x - 1) * (y - 1) * exp(-(1 / 4) * (x - 1) ** 2 - (y - 1) ** 2)],\n",
    "        [(1 / 3) * (x - 2) * (y - 3) * exp(-(1 / 9) * (x - 2) ** 2 - (1 / 4) * (y - 3) ** 2) +\n",
    "        2 * (x - 1) * (y - 1) * exp(-(1 / 4) * (x - 1) ** 2 - (y - 1) ** 2),\n",
    "        3 * ((1 / 4) * (y - 3) ** 2 * exp((-1 / 9) * (x - 2) ** 2 - (1 / 4) * (3 - y) ** 2) -\n",
    "            (1 / 2) * exp((-1 / 9) * (x - 2) ** 2 - (1 / 4) * (3 - y) ** 2)) +\n",
    "        2 * (4 * (y - 1) ** 2 * exp((-1 / 4) * (x - 1) ** 2 - (y - 1) ** 2) -\n",
    "            2 * exp((-1 / 4) * (x - 1) ** 2 - (y - 1) ** 2))]]\n",
    "    )\n",
    "\n",
    "functions = [\n",
    "    (first_function, first_function_grad, first_function_hess, [1, 1]),\n",
    "    (second_function, second_function_grad, second_function_hess, [1, 1]),\n",
    "    (third_function, third_function_grad, third_function_hess, [1.96715, 2.88611])\n",
    "]"
   ]
  },
  {
   "cell_type": "code",
   "execution_count": 8,
   "metadata": {},
   "outputs": [],
   "source": [
    "import matplotlib.pyplot as plt\n",
    "\n",
    "def bar_chart(data, labels):\n",
    "    def bar(X, i, color):\n",
    "        axes.bar(X + 0.25, [x[i] for x in data], color=color, width=0.25)\n",
    "\n",
    "    figure = plt.figure()\n",
    "    axes = figure.add_axes([0, 0, 1, 1])\n",
    "\n",
    "    size = len(data[0])\n",
    "    X = np.arange(len(data))\n",
    "    colors = ['r', 'g', 'b']\n",
    "\n",
    "    for i in range(size):\n",
    "        bar(X + i / size, i, colors[i % len(colors)])\n",
    "\n",
    "    axes.legend(labels=labels)\n",
    "    axes.set_xticks(X + 0.58)\n",
    "    axes.set_xticklabels([f'function #{i}' for i in range(len(data))])\n",
    "\n",
    "    plt.show()"
   ]
  },
  {
   "cell_type": "markdown",
   "metadata": {},
   "source": [
    "## convergance speed (iterations)"
   ]
  },
  {
   "cell_type": "code",
   "execution_count": 9,
   "metadata": {},
   "outputs": [
    {
     "data": {
      "image/png": "[encoded data removed]",
      "text/plain": [
       "<Figure size 432x288 with 1 Axes>"
      ]
     },
     "metadata": {
      "needs_background": "light"
     },
     "output_type": "display_data"
    }
   ],
   "source": [
    "traces = [\n",
    "    [\n",
    "        gradient_descent(f, grad, np.array([3, 2]), golden_ratio_method),\n",
    "        conjugate_gradients_method(f, grad, np.array([3, 2]), golden_ratio_method, criterion=3, eps=1e-6),\n",
    "        newton(f, grad, hess, np.array([3, 2]), 1)\n",
    "    ]\n",
    "    for f, grad, hess, _ in functions\n",
    "]\n",
    "\n",
    "sizes = [[len(trace) for trace in methods] for methods in traces]\n",
    "\n",
    "bar_chart(sizes, ['gradient descent', 'conjugate gradients', 'newton'])"
   ]
  },
  {
   "cell_type": "markdown",
   "metadata": {},
   "source": [
    "## reliability (answer distance)"
   ]
  },
  {
   "cell_type": "code",
   "execution_count": 10,
   "metadata": {
    "tags": []
   },
   "outputs": [
    {
     "data": {
      "image/png": "[encoded data removed]",
      "text/plain": [
       "<Figure size 432x288 with 1 Axes>"
      ]
     },
     "metadata": {
      "needs_background": "light"
     },
     "output_type": "display_data"
    }
   ],
   "source": [
    "traces = [\n",
    "    (\n",
    "        [\n",
    "            gradient_descent(f, grad, np.array([3, 2]), golden_ratio_method),\n",
    "            conjugate_gradients_method(f, grad, np.array([3, 2]), golden_ratio_method, criterion=3, eps=1e-6),\n",
    "            newton(f, grad, hess, np.array([3, 2]), 1)\n",
    "        ],\n",
    "        answer\n",
    "    )\n",
    "    for f, grad, hess, answer in functions\n",
    "]\n",
    "\n",
    "distances = [[np.linalg.norm(trace[-1] - np.array(answer)) for trace in methods] for methods, answer in traces]\n",
    "\n",
    "bar_chart(distances, ['gradient descent', 'conjugate gradients', 'newton'])"
   ]
  },
  {
   "cell_type": "markdown",
   "metadata": {},
   "source": [
    "## RAM"
   ]
  },
  {
   "cell_type": "code",
   "execution_count": 16,
   "metadata": {},
   "outputs": [
    {
     "data": {
      "image/png": "[encoded data removed]",
      "text/plain": [
       "<Figure size 432x288 with 1 Axes>"
      ]
     },
     "metadata": {
      "needs_background": "light"
     },
     "output_type": "display_data"
    }
   ],
   "source": [
    "traces = [\n",
    "    [\n",
    "        gradient_descent(f, grad, np.array([3, 2]), golden_ratio_method, ram_instead=True),\n",
    "        conjugate_gradients_method(f, grad, np.array([3, 2]), golden_ratio_method, criterion=3, eps=1e-6, ram_instead=True),\n",
    "        newton(f, grad, hess, np.array([3, 2]), 1, ram_instead=True)\n",
    "    ]\n",
    "    for f, grad, hess, _ in functions\n",
    "]\n",
    "\n",
    "sizes = [[max(method) - method[0] for method in methods] for methods in traces]\n",
    "\n",
    "bar_chart(sizes, ['gradient descent', 'conjugate gradients', 'newton'])"
   ]
  },
  {
   "cell_type": "markdown",
   "metadata": {},
   "source": [
    "## time"
   ]
  },
  {
   "cell_type": "code",
   "execution_count": 12,
   "metadata": {},
   "outputs": [
    {
     "data": {
      "image/png": "[encoded data removed]",
      "text/plain": [
       "<Figure size 432x288 with 1 Axes>"
      ]
     },
     "metadata": {
      "needs_background": "light"
     },
     "output_type": "display_data"
    }
   ],
   "source": [
    "from timeit import default_timer as timer\n",
    "\n",
    "def stopwatch(f):\n",
    "    start = timer()\n",
    "    f()\n",
    "    return timer() - start\n",
    "\n",
    "time = [\n",
    "    [\n",
    "        stopwatch(lambda: gradient_descent(f, grad, np.array([3, 2]), golden_ratio_method)),\n",
    "        stopwatch(lambda: conjugate_gradients_method(f, grad, np.array([3, 2]), golden_ratio_method, criterion=3, eps=1e-6)),\n",
    "        stopwatch(lambda: newton(f, grad, hess, np.array([3, 2]), 1))\n",
    "    ]\n",
    "    for f, grad, hess, _ in functions\n",
    "]\n",
    "\n",
    "bar_chart(time, ['gradient descent', 'conjugate gradients', 'newton'])"
   ]
  }
 ],
 "metadata": {
  "kernelspec": {
   "display_name": "Python 3",
   "language": "python",
   "name": "python3"
  },
  "language_info": {
   "codemirror_mode": {
    "name": "ipython",
    "version": 3
   },
   "file_extension": ".py",
   "mimetype": "text/x-python",
   "name": "python",
   "nbconvert_exporter": "python",
   "pygments_lexer": "ipython3",
   "version": "3.8.5"
  }
 },
 "nbformat": 4,
 "nbformat_minor": 4
}
